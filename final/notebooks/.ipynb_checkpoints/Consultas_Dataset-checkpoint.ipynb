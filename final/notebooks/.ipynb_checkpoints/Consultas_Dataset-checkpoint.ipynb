{
 "cells": [
  {
   "cell_type": "markdown",
   "metadata": {
    "id": "7j278XrbIrh-"
   },
   "source": [
    "## **MC356 - Invest Banck (INVB3)**\n",
    "Dataset de índices econômicos mundiais\n",
    "\n",
    "Integrantes:\n",
    "* Leonardo Rener de Oliveira\n",
    "* César Guedes Carneiro\t\n",
    "* Matheus Silva de Deus\t"
   ]
  },
  {
   "cell_type": "code",
   "execution_count": 1,
   "metadata": {
    "id": "rpq8ua44JTbv"
   },
   "outputs": [
    {
     "ename": "SyntaxError",
     "evalue": "invalid syntax (<ipython-input-1-387dc9481078>, line 1)",
     "output_type": "error",
     "traceback": [
      "\u001b[0;36m  File \u001b[0;32m\"<ipython-input-1-387dc9481078>\"\u001b[0;36m, line \u001b[0;32m1\u001b[0m\n\u001b[0;31m    DROP TABLE IF EXISTS GDP;\u001b[0m\n\u001b[0m             ^\u001b[0m\n\u001b[0;31mSyntaxError\u001b[0m\u001b[0;31m:\u001b[0m invalid syntax\n"
     ]
    }
   ],
   "source": [
    "DROP TABLE IF EXISTS GDP;\n",
    "DROP TABLE IF EXISTS COUNTRIES;\n",
    "DROP TABLE IF EXISTS INDICES_FROM_PAIS;\n",
    "DROP TABLE IF EXISTS MOEDA_FROM_INDICE;\n",
    "\n",
    "CREATE TABLE GDB (\n",
    "    Nome_pais VARCHAR(100),\n",
    "    Ano INTEGER NOT NULL,\n",
    "    Valor DEC(12, 2)\n",
    ");\n",
    "\n",
    "CREATE TABLE COUNTRIES (\n",
    "    Nome VARCHAR(100),\n",
    "    PRIMARY KEY(Nome)\n",
    ");\n",
    "\n",
    "CREATE TABLE INDICES_FROM_PAIS (\n",
    "    Nome_pais VARCHAR(100),\n",
    "    Nome_indice VARCHAR(100)\n",
    ");\n",
    "\n",
    "CREATE TABLE MOEDA_FROM_INDICE (\n",
    "    Nome_indice VARCHAR(100),\n",
    "    Nome_moeda VARCHAR(100),\n",
    "    PRIMARY KEY(Nome_indice)\n",
    ");\n",
    "\n",
    "COPY GDB\n",
    "FROM '../data/processed/GDB/GDB.csv'\n",
    "DELIMITER ','\n",
    "CSV HEADER;\n",
    "\n",
    "COPY COUNTRIES\n",
    "FROM '../data/processed/countries/countries.csv'\n",
    "DELIMITER ','\n",
    "CSV HEADER;\n",
    "\n",
    "COPY INDICES_FROM_PAIS\n",
    "FROM '../data/processed/indices-from-country/indices-from-country.csv'\n",
    "DELIMITER ','\n",
    "CSV HEADER;\n",
    "\n",
    "COPY MOEDA_FROM_INDICE\n",
    "FROM '../data/processed/listed-world-indices/listed-world-indices.csv'\n",
    "DELIMITER ','\n",
    "CSV HEADER;"
   ]
  },
  {
   "cell_type": "code",
   "execution_count": null,
   "metadata": {
    "id": "1sEd_UZwN5gW"
   },
   "outputs": [],
   "source": []
  }
 ],
 "metadata": {
  "colab": {
   "collapsed_sections": [],
   "name": "Untitled0.ipynb",
   "provenance": []
  },
  "kernelspec": {
   "display_name": "dataset_env",
   "language": "python",
   "name": "dataset_env"
  },
  "language_info": {
   "codemirror_mode": {
    "name": "ipython",
    "version": 3
   },
   "file_extension": ".py",
   "mimetype": "text/x-python",
   "name": "python",
   "nbconvert_exporter": "python",
   "pygments_lexer": "ipython3",
   "version": "3.7.6"
  }
 },
 "nbformat": 4,
 "nbformat_minor": 1
}
