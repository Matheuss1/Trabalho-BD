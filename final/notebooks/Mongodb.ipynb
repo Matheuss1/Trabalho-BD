{
 "cells": [
  {
   "cell_type": "code",
   "execution_count": 65,
   "metadata": {},
   "outputs": [
    {
     "name": "stdout",
     "output_type": "stream",
     "text": [
      "Collecting pymongo\n",
      "  Using cached https://files.pythonhosted.org/packages/03/7d/ce52df6f521f6fb26a13a6f2ee6b0d0cabd7708b3518fe951fe7697c9384/pymongo-3.12.1-cp27-cp27mu-manylinux1_x86_64.whl\n",
      "Installing collected packages: pymongo\n",
      "Successfully installed pymongo-3.12.1\n"
     ]
    }
   ],
   "source": [
    "! pip install pymongo"
   ]
  },
  {
   "cell_type": "code",
   "execution_count": 66,
   "metadata": {},
   "outputs": [],
   "source": [
    "from pymongo import MongoClient\n",
    "import json"
   ]
  },
  {
   "cell_type": "code",
   "execution_count": 67,
   "metadata": {},
   "outputs": [],
   "source": [
    "client = MongoClient('localhost', 27017)"
   ]
  },
  {
   "cell_type": "code",
   "execution_count": 68,
   "metadata": {},
   "outputs": [],
   "source": [
    "bank = client.countries"
   ]
  },
  {
   "cell_type": "code",
   "execution_count": 69,
   "metadata": {},
   "outputs": [],
   "source": [
    "countries = bank.countries"
   ]
  },
  {
   "cell_type": "code",
   "execution_count": 70,
   "metadata": {},
   "outputs": [],
   "source": [
    "json_path = open(\"../data/processed/json/countries.json\")"
   ]
  },
  {
   "cell_type": "code",
   "execution_count": 71,
   "metadata": {},
   "outputs": [],
   "source": [
    "c = json.load(json_path)"
   ]
  },
  {
   "cell_type": "code",
   "execution_count": 72,
   "metadata": {},
   "outputs": [
    {
     "data": {
      "text/plain": [
       "<pymongo.results.InsertManyResult at 0x7f1914f45230>"
      ]
     },
     "execution_count": 72,
     "metadata": {},
     "output_type": "execute_result"
    }
   ],
   "source": [
    "countries.insert_many(c)"
   ]
  },
  {
   "cell_type": "markdown",
   "metadata": {},
   "source": [
    "### 1ª Pergunta"
   ]
  },
  {
   "cell_type": "code",
   "execution_count": 73,
   "metadata": {},
   "outputs": [
    {
     "name": "stdout",
     "output_type": "stream",
     "text": [
      "244682543.798\n"
     ]
    }
   ],
   "source": [
    "a = countries.find(\n",
    "    {},\n",
    "    {\"years.GDP\":1,\"_id\":0}\n",
    ")\n",
    "rep = 0\n",
    "som = 0\n",
    "for i in a:\n",
    "    for j in i['years']:\n",
    "        if(j):\n",
    "            if isinstance(j['GDP'],float):\n",
    "                som += j['GDP'] \n",
    "        rep += 1\n",
    "som = som/rep\n",
    "print(som)"
   ]
  },
  {
   "cell_type": "markdown",
   "metadata": {},
   "source": [
    "### 2ª Pergunta"
   ]
  },
  {
   "cell_type": "code",
   "execution_count": 74,
   "metadata": {},
   "outputs": [
    {
     "name": "stdout",
     "output_type": "stream",
     "text": [
      "{u'name': u'colombia'}\n",
      "{u'name': u'indonesia'}\n",
      "{u'name': u'iraq'}\n",
      "{u'name': u'japan'}\n",
      "{u'name': u'south korea'}\n",
      "{u'name': u'vietnam'}\n",
      "{u'name': u'colombia'}\n",
      "{u'name': u'indonesia'}\n",
      "{u'name': u'iraq'}\n",
      "{u'name': u'japan'}\n",
      "{u'name': u'south korea'}\n",
      "{u'name': u'vietnam'}\n",
      "{u'name': u'colombia'}\n",
      "{u'name': u'indonesia'}\n",
      "{u'name': u'iraq'}\n",
      "{u'name': u'japan'}\n",
      "{u'name': u'south korea'}\n",
      "{u'name': u'vietnam'}\n",
      "{u'name': u'colombia'}\n",
      "{u'name': u'indonesia'}\n",
      "{u'name': u'iraq'}\n",
      "{u'name': u'japan'}\n",
      "{u'name': u'south korea'}\n",
      "{u'name': u'vietnam'}\n",
      "{u'name': u'colombia'}\n",
      "{u'name': u'indonesia'}\n",
      "{u'name': u'iraq'}\n",
      "{u'name': u'japan'}\n",
      "{u'name': u'south korea'}\n",
      "{u'name': u'vietnam'}\n",
      "{u'name': u'colombia'}\n",
      "{u'name': u'indonesia'}\n",
      "{u'name': u'iraq'}\n",
      "{u'name': u'japan'}\n",
      "{u'name': u'south korea'}\n",
      "{u'name': u'vietnam'}\n",
      "{u'name': u'colombia'}\n",
      "{u'name': u'indonesia'}\n",
      "{u'name': u'iraq'}\n",
      "{u'name': u'japan'}\n",
      "{u'name': u'south korea'}\n",
      "{u'name': u'vietnam'}\n"
     ]
    }
   ],
   "source": [
    "b = countries.find(\n",
    "    { \"years\": {\"$elemMatch\": \n",
    "                { \"year\": 2019, \n",
    "                  \"GDP\": { \"$gt\": 244682543.798},\n",
    "                }\n",
    "            }\n",
    "    },\n",
    "    {'name.$': 1,\"_id\":0}\n",
    ")\n",
    "for i in b:\n",
    "  print(i)"
   ]
  }
 ],
 "metadata": {
  "interpreter": {
   "hash": "767d51c1340bd893661ea55ea3124f6de3c7a262a8b4abca0554b478b1e2ff90"
  },
  "kernelspec": {
   "display_name": "Xonsh",
   "language": "python",
   "name": "python3"
  },
  "language_info": {
   "codemirror_mode": {
    "name": "ipython",
    "version": 2
   },
   "file_extension": ".py",
   "mimetype": "text/x-python",
   "name": "python",
   "nbconvert_exporter": "python",
   "pygments_lexer": "ipython2",
   "version": "2.7.17"
  },
  "orig_nbformat": 4
 },
 "nbformat": 4,
 "nbformat_minor": 2
}
