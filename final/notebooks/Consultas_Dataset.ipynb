{
 "cells": [
  {
   "cell_type": "markdown",
   "metadata": {
    "id": "7j278XrbIrh-"
   },
   "source": [
    "## **MC356 - Invest Banck (INVB3)**\n",
    "Dataset de índices econômicos mundiais\n",
    "\n",
    "Integrantes:\n",
    "* Leonardo Rener de Oliveira\n",
    "* César Guedes Carneiro\t\n",
    "* Matheus Silva de Deus\t"
   ]
  },
  {
   "cell_type": "code",
   "execution_count": 2,
   "metadata": {},
   "outputs": [],
   "source": [
    "import csv"
   ]
  },
  {
   "cell_type": "code",
   "execution_count": 3,
   "metadata": {},
   "outputs": [],
   "source": [
    "import sqlite3\n",
    "from sqlite3 import Error\n",
    "\n",
    "\n",
    "def create_connection():\n",
    "    \"\"\" create a database connection to a database that resides\n",
    "        in the memory\n",
    "    \"\"\"\n",
    "    conn = None;\n",
    "    try:\n",
    "        conn = sqlite3.connect('temp_db.db')\n",
    "    except Error as e:\n",
    "        print(e)\n",
    "    \n",
    "    return conn"
   ]
  },
  {
   "cell_type": "code",
   "execution_count": 4,
   "metadata": {},
   "outputs": [],
   "source": [
    "db_connection = create_connection()\n",
    "\n",
    "cursor = db_connection.cursor()"
   ]
  },
  {
   "cell_type": "code",
   "execution_count": 5,
   "metadata": {},
   "outputs": [],
   "source": [
    "%load_ext sql"
   ]
  },
  {
   "cell_type": "code",
   "execution_count": 6,
   "metadata": {},
   "outputs": [],
   "source": [
    "%sql sqlite:///temp_db.db"
   ]
  },
  {
   "cell_type": "code",
   "execution_count": 7,
   "metadata": {},
   "outputs": [
    {
     "name": "stdout",
     "output_type": "stream",
     "text": [
      " * sqlite:///temp_db.db\n",
      "Done.\n",
      "Done.\n",
      "Done.\n",
      "Done.\n",
      "Done.\n",
      "Done.\n",
      "Done.\n",
      "Done.\n",
      "Done.\n",
      "Done.\n"
     ]
    },
    {
     "data": {
      "text/plain": [
       "[]"
      ]
     },
     "execution_count": 7,
     "metadata": {},
     "output_type": "execute_result"
    }
   ],
   "source": [
    "%%sql\n",
    "DROP TABLE IF EXISTS COUNTRY;\n",
    "DROP TABLE IF EXISTS LISTED_WORLD_INDICE;\n",
    "DROP TABLE IF EXISTS INDICE_FROM_COUNTRY;\n",
    "DROP TABLE IF EXISTS GDP;\n",
    "DROP TABLE IF EXISTS HISTORICAL_DATA;\n",
    "\n",
    "\n",
    "CREATE TABLE COUNTRY (\n",
    "    Name VARCHAR(100),\n",
    "    PRIMARY KEY(Name)\n",
    ");\n",
    "\n",
    "CREATE TABLE LISTED_WORLD_INDICE (\n",
    "    Name VARCHAR(100),\n",
    "    Currency VARCHAR(3),\n",
    "    PRIMARY KEY(Name)\n",
    ");\n",
    "\n",
    "CREATE TABLE INDICE_FROM_COUNTRY (\n",
    "    Country VARCHAR(100),\n",
    "    Indice_name VARCHAR(100),\n",
    "    FOREIGN KEY (Country) REFERENCES COUNTRY,\n",
    "    FOREIGN KEY (Indice_name) REFERENCES LISTED_WORD_INDICE\n",
    ");\n",
    "\n",
    "CREATE TABLE GDP (\n",
    "    Country VARCHAR(100),\n",
    "    Year INT,\n",
    "    GDP FLOAT,\n",
    "    FOREIGN KEY (Country) REFERENCES COUNTRY,\n",
    "    PRIMARY KEY(Country, Year)\n",
    ");\n",
    "\n",
    "CREATE TABLE HISTORICAL_DATA (\n",
    "    Indice_name VARCHAR(100),\n",
    "    Year INT,\n",
    "    Month INT,\n",
    "    Open FLOAT,\n",
    "    Close FLOAT,\n",
    "    PRIMARY KEY(Indice_name, Year, Month)\n",
    ");\n"
   ]
  },
  {
   "cell_type": "markdown",
   "metadata": {},
   "source": [
    "### insert data into countries table"
   ]
  },
  {
   "cell_type": "code",
   "execution_count": 8,
   "metadata": {},
   "outputs": [],
   "source": [
    "with open('../data/processed/countries/countries.csv', newline='') as countries_file:\n",
    "    rows = csv.reader(countries_file)\n",
    "    \n",
    "    next(rows, None)\n",
    "    \n",
    "    cursor.executemany(\"INSERT OR IGNORE INTO COUNTRY VALUES (?)\", rows)\n",
    "\n",
    "    db_connection.commit()"
   ]
  },
  {
   "cell_type": "markdown",
   "metadata": {},
   "source": [
    "### insert data into listed world indices table"
   ]
  },
  {
   "cell_type": "code",
   "execution_count": 11,
   "metadata": {},
   "outputs": [],
   "source": [
    "with open('../data/processed/listed-world-indices/listed-world-indices.csv', newline='') as listed_world_indices_file:\n",
    "    rows = csv.reader(listed_world_indices_file)\n",
    "    \n",
    "    next(rows, None)\n",
    "\n",
    "    cursor.executemany(\"INSERT OR IGNORE INTO LISTED_WORLD_INDICE VALUES (?, ?)\", rows)\n",
    "\n",
    "    db_connection.commit()"
   ]
  },
  {
   "cell_type": "markdown",
   "metadata": {
    "id": "1sEd_UZwN5gW"
   },
   "source": [
    "### insert data into country-indices relation table"
   ]
  },
  {
   "cell_type": "code",
   "execution_count": 12,
   "metadata": {},
   "outputs": [],
   "source": [
    "with open('../data/processed/indices-from-country/indices-from-country.csv', newline='') as indices_from_country_file:\n",
    "    rows = csv.reader(indices_from_country_file)\n",
    "    \n",
    "    next(rows, None)\n",
    "\n",
    "    cursor.executemany(\"INSERT OR IGNORE INTO INDICE_FROM_COUNTRY VALUES (?, ?)\", rows)\n",
    "\n",
    "    db_connection.commit()"
   ]
  },
  {
   "cell_type": "markdown",
   "metadata": {},
   "source": [
    "### insert data into GDP"
   ]
  },
  {
   "cell_type": "code",
   "execution_count": 13,
   "metadata": {},
   "outputs": [],
   "source": [
    "with open('../data/processed/GDP/GDP.csv', newline='') as GDP_file:\n",
    "    rows = csv.reader(GDP_file)\n",
    "    cursor.executemany(\"INSERT OR IGNORE INTO GDP VALUES (?, ?, ?)\", rows)\n",
    "\n",
    "    db_connection.commit()"
   ]
  },
  {
   "cell_type": "markdown",
   "metadata": {},
   "source": [
    "### insert data into historical data table"
   ]
  },
  {
   "cell_type": "code",
   "execution_count": 15,
   "metadata": {},
   "outputs": [],
   "source": [
    "START_AT_YEAR = 2015\n",
    "STOP_AT_YEAR = 2021\n",
    "\n",
    "indices = cursor.execute('SELECT * FROM LISTED_WORLD_INDICE').fetchall()[1:]\n",
    "\n",
    "indices_names = [indice[0].replace(' ', '_').replace('/','-') for indice in indices]\n",
    "\n",
    "for indice_name in indices_names:\n",
    "    for year in range(START_AT_YEAR, STOP_AT_YEAR):\n",
    "        try:\n",
    "            with open(\n",
    "                '../data/processed/indices-historical-data/'+ indice_name +'/'+ str(year) + '.csv', \n",
    "                newline=''\n",
    "            ) as historical_data_file:\n",
    "                rows = csv.reader(historical_data_file)\n",
    "\n",
    "                next(rows, None)\n",
    "\n",
    "                query_data = []\n",
    "\n",
    "                for row in rows:\n",
    "                    temp_list = [\n",
    "                        indice_name.replace('_', ' ').replace('-','/'),\n",
    "                        year\n",
    "                    ]\n",
    "\n",
    "                    temp_list.extend(row)\n",
    "\n",
    "                    query_data.append(temp_list)\n",
    "\n",
    "                cursor.executemany(\"INSERT OR IGNORE INTO HISTORICAL_DATA VALUES (?, ?, ?, ?, ?)\", query_data)\n",
    "        except:\n",
    "            continue\n",
    "\n",
    "db_connection.commit()\n"
   ]
  },
  {
   "cell_type": "code",
   "execution_count": 23,
   "metadata": {},
   "outputs": [
    {
     "name": "stdout",
     "output_type": "stream",
     "text": [
      "File Removed!\n"
     ]
    }
   ],
   "source": [
    "import os\n",
    "os.remove(\"temp_db.db\")\n",
    "print(\"File Removed!\")"
   ]
  }
 ],
 "metadata": {
  "colab": {
   "collapsed_sections": [],
   "name": "Untitled0.ipynb",
   "provenance": []
  },
  "kernelspec": {
   "display_name": "dataset_env",
   "language": "python",
   "name": "dataset_env"
  },
  "language_info": {
   "codemirror_mode": {
    "name": "ipython",
    "version": 3
   },
   "file_extension": ".py",
   "mimetype": "text/x-python",
   "name": "python",
   "nbconvert_exporter": "python",
   "pygments_lexer": "ipython3",
   "version": "3.7.6"
  }
 },
 "nbformat": 4,
 "nbformat_minor": 1
}
