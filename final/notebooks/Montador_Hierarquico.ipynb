{
 "cells": [
  {
   "cell_type": "code",
   "execution_count": 1,
   "id": "61430840-530d-4f5b-80fa-b39637d02ebc",
   "metadata": {},
   "outputs": [],
   "source": [
    "import csv\n",
    "import json"
   ]
  },
  {
   "cell_type": "code",
   "execution_count": 2,
   "id": "753ea458-4d24-45a0-9812-e584575bff2e",
   "metadata": {},
   "outputs": [],
   "source": [
    "jsonFilePath = \"../data/processed/json/countries.json\""
   ]
  },
  {
   "cell_type": "code",
   "execution_count": 3,
   "id": "351c4867-5f15-48e1-826f-2ccb9491f44d",
   "metadata": {},
   "outputs": [],
   "source": [
    "meses = {0:'january',1:'february',2:'march',3:'april',4:'may',5:'june',6:'july',7:'august',8:'september',9:'october',10:'november',11:'december'}"
   ]
  },
  {
   "cell_type": "code",
   "execution_count": 4,
   "id": "fad14614-874e-426c-81de-2d84987515d2",
   "metadata": {},
   "outputs": [],
   "source": [
    "def json_builder(jsonFilePath, data):\n",
    "    with open(jsonFilePath, 'w', encoding='utf-8') as jsonFile:\n",
    "        jsonFile.write(json.dumps(data, indent=4))"
   ]
  },
  {
   "cell_type": "code",
   "execution_count": 5,
   "id": "479f3ae7-640b-4a58-b223-6e23e6b2d208",
   "metadata": {},
   "outputs": [],
   "source": [
    "def idx_file(n):\n",
    "    n = n.split(\" \")\n",
    "    str = \"\"\n",
    "    for i in n:\n",
    "        str += i\n",
    "        str += \"_\"\n",
    "    n = str[:-1]\n",
    "    n = n.split(\"/\")\n",
    "    str = \"\"\n",
    "    for i in n:\n",
    "        str += i\n",
    "        str += \"-\"\n",
    "    return str[:-1]"
   ]
  },
  {
   "cell_type": "code",
   "execution_count": 6,
   "id": "e62c1454-5ddd-4ef5-80f2-60c18f90e4c0",
   "metadata": {},
   "outputs": [],
   "source": [
    "def ler_mes(ix,mes,ano):\n",
    "    i = idx_file(ix)\n",
    "    pt_ab = ''\n",
    "    pt_fc = ''\n",
    "    tab = open(\"../data/processed/indices-historical-data/\"+i+\"/\"+ano+\".csv\", newline='')\n",
    "    inf = csv.reader(tab)\n",
    "    header = next(inf)\n",
    "    for line in inf:\n",
    "        if(int(line[0])==mes):\n",
    "            pt_ab = line[1]\n",
    "            pt_fc = line[2]\n",
    "            break\n",
    "    return pt_ab, pt_fc"
   ]
  },
  {
   "cell_type": "code",
   "execution_count": 7,
   "id": "00d3295a-36ad-44eb-9688-b4a576297b0c",
   "metadata": {},
   "outputs": [],
   "source": [
    "def inf_hist(ix,ano):\n",
    "    mes = []\n",
    "    for i in range(12):\n",
    "        pt_ab, pt_fc = ler_mes(ix,i+1,ano)\n",
    "        j = {}\n",
    "        j['month'] = meses[i]\n",
    "        j['opening point']=pt_ab\n",
    "        j['closing point']=pt_fc\n",
    "        mes.append(j)\n",
    "    return mes"
   ]
  },
  {
   "cell_type": "code",
   "execution_count": 8,
   "id": "4ffc0b02-89d7-49be-a60f-d2418200f349",
   "metadata": {},
   "outputs": [],
   "source": [
    "def idx(ix,ano):\n",
    "    info = {}\n",
    "    info['name'] = ix\n",
    "    tab = open('../data/processed/listed-world-indices/listed-world-indices.csv', newline='')\n",
    "    inf = csv.reader(tab)\n",
    "    header = next(inf)\n",
    "    for line in inf:\n",
    "        if(line[0]==ix):\n",
    "            info['currency'] = line[1]\n",
    "            break\n",
    "    info['historical data'] = inf_hist(ix,ano)\n",
    "    return info"
   ]
  },
  {
   "cell_type": "code",
   "execution_count": 9,
   "id": "3fa3d1ce-7ef0-466c-8b42-de778fb6b2aa",
   "metadata": {},
   "outputs": [],
   "source": [
    "def year(pais, ano):\n",
    "    y = {}\n",
    "    y['year'] = ano\n",
    "    tab = open('../data/processed/GDP/GDP.csv', newline='')\n",
    "    inf = csv.reader(tab)\n",
    "    header = next(inf)\n",
    "    for line in inf:\n",
    "        if(line[0]==pais and line[1]==ano):\n",
    "            y['GDP'] = line[2]\n",
    "            break\n",
    "    tab = open('../data/processed/indices-from-country/indices-from-country.csv', newline='')\n",
    "    inf = csv.reader(tab)\n",
    "    header = next(inf)\n",
    "    j = []\n",
    "    for line in inf:\n",
    "        if(line[0]==pais):\n",
    "            j.append(idx(line[1],ano))\n",
    "    y['indexes'] = j\n",
    "    return y"
   ]
  },
  {
   "cell_type": "code",
   "execution_count": 10,
   "id": "399f70c7-e296-4a80-9ebe-69b782320916",
   "metadata": {},
   "outputs": [],
   "source": [
    "def cntr(pais):\n",
    "    c={}\n",
    "    c[\"name\"]=pais\n",
    "    j=[]\n",
    "    for i in range(2015,2021):\n",
    "        ano = str(i)\n",
    "        j.append(year(pais, ano))\n",
    "    c[\"years\"]=j\n",
    "    return c"
   ]
  },
  {
   "cell_type": "code",
   "execution_count": 11,
   "id": "fcd2f555-5762-4f3f-87c3-1bb5f934a6db",
   "metadata": {},
   "outputs": [],
   "source": [
    "def tudo():\n",
    "    td = {}\n",
    "    tab = open('../data/processed/countries/countries.csv', newline='')\n",
    "    inf = csv.reader(tab)\n",
    "    header = next(inf)\n",
    "    j = []\n",
    "    for line in inf:\n",
    "        j.append(cntr(line[0]))\n",
    "    td[\"countries\"] = j\n",
    "    return td"
   ]
  },
  {
   "cell_type": "code",
   "execution_count": 12,
   "id": "3605c325-e5c9-46c6-ab81-2f5b75ec7cf4",
   "metadata": {},
   "outputs": [],
   "source": [
    "data = tudo()\n",
    "json_builder(jsonFilePath, data)"
   ]
  }
 ],
 "metadata": {
  "kernelspec": {
   "display_name": "Python 3 (ipykernel)",
   "language": "python",
   "name": "python3"
  },
  "language_info": {
   "codemirror_mode": {
    "name": "ipython",
    "version": 3
   },
   "file_extension": ".py",
   "mimetype": "text/x-python",
   "name": "python",
   "nbconvert_exporter": "python",
   "pygments_lexer": "ipython3",
   "version": "3.7.10"
  }
 },
 "nbformat": 4,
 "nbformat_minor": 5
}
