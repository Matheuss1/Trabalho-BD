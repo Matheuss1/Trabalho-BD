{
  "nbformat": 4,
  "nbformat_minor": 0,
  "metadata": {
    "colab": {
      "name": "Untitled0.ipynb",
      "provenance": [],
      "collapsed_sections": []
    },
    "kernelspec": {
      "name": "python3",
      "display_name": "Python 3"
    },
    "language_info": {
      "name": "python"
    }
  },
  "cells": [
    {
      "cell_type": "markdown",
      "metadata": {
        "id": "7j278XrbIrh-"
      },
      "source": [
        "## **MC356 - Invest Banck (INVB3)**\n",
        "Dataset de índices econômicos mundiais\n",
        "\n",
        "Integrantes:\n",
        "* Leonardo Rener de Oliveira\n",
        "* César Guedes Carneiro\t\n",
        "* Matheus Silva de Deus\t"
      ]
    },
    {
      "cell_type": "code",
      "metadata": {
        "id": "rpq8ua44JTbv"
      },
      "source": [
        "DROP TABLE IF EXISTS GDP;\n",
        "DROP TABLE IF EXISTS COUNTRIES;\n",
        "DROP TABLE IF EXISTS INDICES_FROM_PAIS;\n",
        "DROP TABLE IF EXISTS MOEDA_FROM_INDICE;\n",
        "\n",
        "CREATE TABLE GDB (\n",
        "    Nome_pais VARCHAR(100),\n",
        "    Ano INTEGER NOT NULL,\n",
        "    Valor DEC(12, 2)\n",
        ");\n",
        "\n",
        "CREATE TABLE COUNTRIES (\n",
        "    Nome VARCHAR(100),\n",
        "    PRIMARY KEY(Nome)\n",
        ");\n",
        "\n",
        "CREATE TABLE INDICES_FROM_PAIS (\n",
        "    Nome_pais VARCHAR(100),\n",
        "    Nome_indice VARCHAR(100)\n",
        ");\n",
        "\n",
        "CREATE TABLE MOEDA_FROM_INDICE (\n",
        "    Nome_indice VARCHAR(100),\n",
        "    Nome_moeda VARCHAR(100),\n",
        "    PRIMARY KEY(Nome_indice)\n",
        ");\n",
        "\n",
        "COPY GDB\n",
        "FROM '../data/processed/GDB/GDB.csv'\n",
        "DELIMITER ','\n",
        "CSV HEADER;\n",
        "\n",
        "COPY COUNTRIES\n",
        "FROM '../data/processed/countries/countries.csv'\n",
        "DELIMITER ','\n",
        "CSV HEADER;\n",
        "\n",
        "COPY INDICES_FROM_PAIS\n",
        "FROM '../data/processed/indices-from-country/indices-from-country.csv'\n",
        "DELIMITER ','\n",
        "CSV HEADER;\n",
        "\n",
        "COPY MOEDA_FROM_INDICE\n",
        "FROM '../data/processed/listed-world-indices/listed-world-indices.csv'\n",
        "DELIMITER ','\n",
        "CSV HEADER;"
      ],
      "execution_count": null,
      "outputs": []
    },
    {
      "cell_type": "code",
      "metadata": {
        "id": "1sEd_UZwN5gW"
      },
      "source": [
        ""
      ],
      "execution_count": null,
      "outputs": []
    }
  ]
}